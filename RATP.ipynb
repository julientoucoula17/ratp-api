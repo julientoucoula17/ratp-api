{
 "cells": [
  {
   "cell_type": "markdown",
   "metadata": {
    "colab_type": "text",
    "id": "ZAgek1U583Yp"
   },
   "source": [
    "# RATP"
   ]
  },
  {
   "cell_type": "code",
   "execution_count": 110,
   "metadata": {
    "colab": {},
    "colab_type": "code",
    "id": "UTtR-zQS8ysH"
   },
   "outputs": [],
   "source": [
    "# Import the following libraries: \n",
    "import requests \n",
    "import pandas as pd\n",
    "import json\n",
    "import openpyxl\n",
    "import time"
   ]
  },
  {
   "cell_type": "markdown",
   "metadata": {
    "colab_type": "text",
    "id": "GlL_3ZTK9GN8"
   },
   "source": [
    "Go to <a href=\"https://api-ratp.pierre-grimaud.fr/v4/\" target=\"_blank\">https://api-ratp.pierre-grimaud.fr/v4/</a> and look at the map for the Metro lines using requests:"
   ]
  },
  {
   "cell_type": "code",
   "execution_count": 111,
   "metadata": {
    "colab": {
     "base_uri": "https://localhost:8080/",
     "height": 1000
    },
    "colab_type": "code",
    "id": "h4IftS298ysM",
    "outputId": "3fc51156-a1bb-4707-c028-fcfdcbd41206"
   },
   "outputs": [
    {
     "data": {
      "text/html": [
       "<div>\n",
       "<style scoped>\n",
       "    .dataframe tbody tr th:only-of-type {\n",
       "        vertical-align: middle;\n",
       "    }\n",
       "\n",
       "    .dataframe tbody tr th {\n",
       "        vertical-align: top;\n",
       "    }\n",
       "\n",
       "    .dataframe thead th {\n",
       "        text-align: right;\n",
       "    }\n",
       "</style>\n",
       "<table border=\"1\" class=\"dataframe\">\n",
       "  <thead>\n",
       "    <tr style=\"text-align: right;\">\n",
       "      <th></th>\n",
       "      <th>code</th>\n",
       "      <th>name</th>\n",
       "      <th>directions</th>\n",
       "      <th>id</th>\n",
       "    </tr>\n",
       "  </thead>\n",
       "  <tbody>\n",
       "    <tr>\n",
       "      <th>0</th>\n",
       "      <td>1</td>\n",
       "      <td>Métro 1</td>\n",
       "      <td>La Defense / Chateau de Vincennes</td>\n",
       "      <td>62</td>\n",
       "    </tr>\n",
       "    <tr>\n",
       "      <th>1</th>\n",
       "      <td>2</td>\n",
       "      <td>Métro 2</td>\n",
       "      <td>Porte Dauphine / Nation</td>\n",
       "      <td>67</td>\n",
       "    </tr>\n",
       "    <tr>\n",
       "      <th>2</th>\n",
       "      <td>3</td>\n",
       "      <td>Métro 3</td>\n",
       "      <td>Pont de Levallois - Becon / Gallieni</td>\n",
       "      <td>68</td>\n",
       "    </tr>\n",
       "    <tr>\n",
       "      <th>3</th>\n",
       "      <td>3b</td>\n",
       "      <td>Métro 3b</td>\n",
       "      <td>Gambetta / Porte des Lilas</td>\n",
       "      <td>69</td>\n",
       "    </tr>\n",
       "    <tr>\n",
       "      <th>4</th>\n",
       "      <td>4</td>\n",
       "      <td>Métro 4</td>\n",
       "      <td>Bagneux / Porte de Clignancourt</td>\n",
       "      <td>70</td>\n",
       "    </tr>\n",
       "    <tr>\n",
       "      <th>5</th>\n",
       "      <td>5</td>\n",
       "      <td>Métro 5</td>\n",
       "      <td>Place d'Italie / Bobigny - Pablo Picasso</td>\n",
       "      <td>71</td>\n",
       "    </tr>\n",
       "    <tr>\n",
       "      <th>6</th>\n",
       "      <td>6</td>\n",
       "      <td>Métro 6</td>\n",
       "      <td>Charles de Gaulle - Etoile / Nation</td>\n",
       "      <td>72</td>\n",
       "    </tr>\n",
       "    <tr>\n",
       "      <th>7</th>\n",
       "      <td>7</td>\n",
       "      <td>Métro 7</td>\n",
       "      <td>Villejuif-L. Aragon / Mairie d'Ivry / la Courn...</td>\n",
       "      <td>73</td>\n",
       "    </tr>\n",
       "    <tr>\n",
       "      <th>8</th>\n",
       "      <td>7b</td>\n",
       "      <td>Métro 7b</td>\n",
       "      <td>Louis Blanc / Pre-Saint-Gervais</td>\n",
       "      <td>74</td>\n",
       "    </tr>\n",
       "    <tr>\n",
       "      <th>9</th>\n",
       "      <td>8</td>\n",
       "      <td>Métro 8</td>\n",
       "      <td>Creteil-Pointe du Lac / Balard</td>\n",
       "      <td>172562</td>\n",
       "    </tr>\n",
       "    <tr>\n",
       "      <th>10</th>\n",
       "      <td>9</td>\n",
       "      <td>Métro 9</td>\n",
       "      <td>Mairie de Montreuil / Pont de Sevres</td>\n",
       "      <td>76</td>\n",
       "    </tr>\n",
       "    <tr>\n",
       "      <th>11</th>\n",
       "      <td>10</td>\n",
       "      <td>Métro 10</td>\n",
       "      <td>Gare d'Austerlitz / Boulogne - Pont de Saint C...</td>\n",
       "      <td>63</td>\n",
       "    </tr>\n",
       "    <tr>\n",
       "      <th>12</th>\n",
       "      <td>11</td>\n",
       "      <td>Métro 11</td>\n",
       "      <td>Chatelet / Mairie des Lilas</td>\n",
       "      <td>64</td>\n",
       "    </tr>\n",
       "    <tr>\n",
       "      <th>13</th>\n",
       "      <td>12</td>\n",
       "      <td>Métro 12</td>\n",
       "      <td>Front Populaire / Mairie d'Issy</td>\n",
       "      <td>65</td>\n",
       "    </tr>\n",
       "    <tr>\n",
       "      <th>14</th>\n",
       "      <td>13</td>\n",
       "      <td>Métro 13</td>\n",
       "      <td>St-Denis-Universite/Les Courtilles / Chatillon...</td>\n",
       "      <td>66</td>\n",
       "    </tr>\n",
       "    <tr>\n",
       "      <th>15</th>\n",
       "      <td>14</td>\n",
       "      <td>Métro 14</td>\n",
       "      <td>Olympiades / Mairie de Saint-Ouen</td>\n",
       "      <td>55098</td>\n",
       "    </tr>\n",
       "    <tr>\n",
       "      <th>16</th>\n",
       "      <td>Fun</td>\n",
       "      <td>Métro Fun</td>\n",
       "      <td>Gare Haute / Gare basse</td>\n",
       "      <td>79</td>\n",
       "    </tr>\n",
       "    <tr>\n",
       "      <th>17</th>\n",
       "      <td>Orv</td>\n",
       "      <td>Métro Orv</td>\n",
       "      <td>Orly 4 / Antony-RER</td>\n",
       "      <td>455</td>\n",
       "    </tr>\n",
       "  </tbody>\n",
       "</table>\n",
       "</div>"
      ],
      "text/plain": [
       "   code       name                                         directions      id\n",
       "0     1    Métro 1                  La Defense / Chateau de Vincennes      62\n",
       "1     2    Métro 2                            Porte Dauphine / Nation      67\n",
       "2     3    Métro 3               Pont de Levallois - Becon / Gallieni      68\n",
       "3    3b   Métro 3b                         Gambetta / Porte des Lilas      69\n",
       "4     4    Métro 4                    Bagneux / Porte de Clignancourt      70\n",
       "5     5    Métro 5           Place d'Italie / Bobigny - Pablo Picasso      71\n",
       "6     6    Métro 6                Charles de Gaulle - Etoile / Nation      72\n",
       "7     7    Métro 7  Villejuif-L. Aragon / Mairie d'Ivry / la Courn...      73\n",
       "8    7b   Métro 7b                    Louis Blanc / Pre-Saint-Gervais      74\n",
       "9     8    Métro 8                     Creteil-Pointe du Lac / Balard  172562\n",
       "10    9    Métro 9               Mairie de Montreuil / Pont de Sevres      76\n",
       "11   10   Métro 10  Gare d'Austerlitz / Boulogne - Pont de Saint C...      63\n",
       "12   11   Métro 11                        Chatelet / Mairie des Lilas      64\n",
       "13   12   Métro 12                    Front Populaire / Mairie d'Issy      65\n",
       "14   13   Métro 13  St-Denis-Universite/Les Courtilles / Chatillon...      66\n",
       "15   14   Métro 14                  Olympiades / Mairie de Saint-Ouen   55098\n",
       "16  Fun  Métro Fun                            Gare Haute / Gare basse      79\n",
       "17  Orv  Métro Orv                                Orly 4 / Antony-RER     455"
      ]
     },
     "execution_count": 111,
     "metadata": {},
     "output_type": "execute_result"
    }
   ],
   "source": [
    "networks = requests.get(\"https://api-ratp.pierre-grimaud.fr/v4/lines/metros\")\n",
    "df_networks = pd.DataFrame(networks.json()['result']['metros'])\n",
    "df_networks"
   ]
  },
  {
   "cell_type": "markdown",
   "metadata": {
    "colab_type": "text",
    "id": "aeD2ouWA9L6p"
   },
   "source": [
    "Extract all stations on Line 3b:"
   ]
  },
  {
   "cell_type": "code",
   "execution_count": 112,
   "metadata": {
    "colab": {
     "base_uri": "https://localhost:8080/",
     "height": 668
    },
    "colab_type": "code",
    "id": "00_eyA2j8ysX",
    "outputId": "6c9a2959-3ab8-406f-aa83-59d49a80aeee"
   },
   "outputs": [
    {
     "data": {
      "text/plain": [
       "{'result': {'stations': [{'name': 'Porte des Lilas',\n",
       "    'slug': 'porte+des+lilas'},\n",
       "   {'name': 'Saint-Fargeau', 'slug': 'saint+fargeau'},\n",
       "   {'name': 'Pelleport', 'slug': 'pelleport'},\n",
       "   {'name': 'Gambetta', 'slug': 'gambetta'}]},\n",
       " '_metadata': {'call': 'GET /stations/metros/3b',\n",
       "  'date': '2022-04-15T16:35:09+02:00',\n",
       "  'version': 4}}"
      ]
     },
     "execution_count": 112,
     "metadata": {},
     "output_type": "execute_result"
    }
   ],
   "source": [
    "stations_l9 = requests.get(\"https://api-ratp.pierre-grimaud.fr/v4/stations/metros/3b\")\n",
    "stations_l9.json()"
   ]
  },
  {
   "cell_type": "markdown",
   "metadata": {
    "colab_type": "text",
    "id": "V1ExLCy69OUz"
   },
   "source": [
    "Look at the directions on line 14:"
   ]
  },
  {
   "cell_type": "code",
   "execution_count": 113,
   "metadata": {
    "colab": {
     "base_uri": "https://localhost:8080/",
     "height": 52
    },
    "colab_type": "code",
    "id": "bjFjLUqf8ysd",
    "outputId": "89280ef5-d2a2-4bc7-8e11-1eafcba968c7"
   },
   "outputs": [
    {
     "data": {
      "text/plain": [
       "{'result': {'destinations': [{'name': 'Olympiades', 'way': 'A'},\n",
       "   {'name': 'Mairie de Saint-Ouen', 'way': 'R'}]},\n",
       " '_metadata': {'call': 'GET /destinations/metros/14',\n",
       "  'date': '2022-04-15T16:35:17+02:00',\n",
       "  'version': 4}}"
      ]
     },
     "execution_count": 113,
     "metadata": {},
     "output_type": "execute_result"
    }
   ],
   "source": [
    "directions_fr = requests.get(\"https://api-ratp.pierre-grimaud.fr/v4/destinations/metros/14\")\n",
    "directions_fr.json()"
   ]
  },
  {
   "cell_type": "markdown",
   "metadata": {
    "colab_type": "text",
    "id": "KwalEFCZ9Q8Q"
   },
   "source": [
    "Watch the time of the next subways at the \"Notre Dame des champs\""
   ]
  },
  {
   "cell_type": "code",
   "execution_count": 116,
   "metadata": {
    "colab": {
     "base_uri": "https://localhost:8080/",
     "height": 34
    },
    "colab_type": "code",
    "id": "rGn0RMtY8ysg",
    "outputId": "bc0aa033-e61f-4b8a-f97c-ebc49b73c550"
   },
   "outputs": [
    {
     "data": {
      "text/plain": [
       "[{'message': '2 mn', 'destination': \"Mairie d'Issy\"},\n",
       " {'message': '4 mn', 'destination': \"Mairie d'Issy\"},\n",
       " {'message': '8 mn', 'destination': \"Mairie d'Issy\"},\n",
       " {'message': '13 mn', 'destination': \"Mairie d'Issy\"}]"
      ]
     },
     "execution_count": 116,
     "metadata": {},
     "output_type": "execute_result"
    }
   ],
   "source": [
    "time_from_notre_dame_des_champs = requests.get(\"https://api-ratp.pierre-grimaud.fr/v4/schedules/metros/12/Notre-Dame%20des%20Champs/R\")\n",
    "time_from_notre_dame_des_champs.json()[\"result\"][\"schedules\"]"
   ]
  },
  {
   "cell_type": "markdown",
   "metadata": {},
   "source": [
    "Export all the data to an CSV file"
   ]
  },
  {
   "cell_type": "code",
   "execution_count": 115,
   "metadata": {},
   "outputs": [
    {
     "name": "stdout",
     "output_type": "stream",
     "text": [
      "Download Métro 1\n",
      "Download Métro 2\n",
      "Download Métro 3\n",
      "Download Métro 3b\n",
      "Download Métro 4\n",
      "Download Métro 5\n",
      "Download Métro 6\n",
      "Download Métro 7\n",
      "Download Métro 7b\n",
      "Download Métro 8\n",
      "Download Métro 9\n",
      "Download Métro 10\n",
      "Download Métro 11\n",
      "Download Métro 12\n",
      "Download Métro 13\n",
      "Download Métro 14\n",
      "Download Métro Fun\n",
      "Download Métro Orv\n"
     ]
    }
   ],
   "source": [
    "for i in range(len(df_networks)):\n",
    "    # Retrieve code and name for each line\n",
    "    code = df_networks.iloc[i]['code']\n",
    "    name = df_networks.iloc[i]['name']\n",
    "    \n",
    "    print(f\"Download {name}\")\n",
    "    time.sleep(5)\n",
    "    \n",
    "    station = requests.get(\"https://api-ratp.pierre-grimaud.fr/v4/stations/metros/{}\".format(code))\n",
    "    df = pd.DataFrame(station.json()['result']['stations'])\n",
    "    df['metro'] = name\n",
    "    if(i == 0):\n",
    "        df.to_csv('export_all.csv', mode='a',index=False, header=True)\n",
    "    else:\n",
    "        df.to_csv('export_all.csv', mode='a',index=False, header=False)\n"
   ]
  }
 ],
 "metadata": {
  "colab": {
   "name": "RATP - Exercice SOLUTION.ipynb",
   "provenance": []
  },
  "kernelspec": {
   "display_name": "Python 3.8.6 64-bit",
   "metadata": {
    "interpreter": {
     "hash": "1ee38ef4a5a9feb55287fd749643f13d043cb0a7addaab2a9c224cbe137c0062"
    }
   },
   "name": "python3"
  },
  "language_info": {
   "codemirror_mode": {
    "name": "ipython",
    "version": 3
   },
   "file_extension": ".py",
   "mimetype": "text/x-python",
   "name": "python",
   "nbconvert_exporter": "python",
   "pygments_lexer": "ipython3",
   "version": "3.9.0"
  }
 },
 "nbformat": 4,
 "nbformat_minor": 4
}
